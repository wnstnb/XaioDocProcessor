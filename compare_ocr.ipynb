{
 "cells": [
  {
   "cell_type": "code",
   "execution_count": null,
   "metadata": {},
   "outputs": [
    {
     "name": "stdout",
     "output_type": "stream",
     "text": [
      "Tesseract Results:\n",
      "5 Other income (loss) (see instructions—attach statement) . . . . . . 1 eee 5\n",
      "\n",
      "6 _Totalincome (loss). Add lines 3through5 . . . .. ee | 6 | 80,000\n",
      "7 Compensation of officers (see instructions—attach Form 1125- 7) Ce 7 5,000\n",
      "8 Salaries and wages (less employment credits) . . . . . . . 1 ee ee 8 12,000\n",
      "9 Repairsandmaintenance. . . . . 1. 1. ee ee 9\n",
      "\n",
      "10 Baddebts .. 2... ee ee | 10]\n",
      "\n",
      "11 Rents .\n",
      "12 Taxes and licenses . .\n",
      "13 Interest (see instructions). . . . . 1,111\n",
      "\n",
      "14 Depreciation from Form 4562 not claimed « on Form 1125-A or ‘elsewhere on return n (attach F Form 4562) Era 7,000\n",
      "15 Depletion (Do not deduct oiland gas depletion.) . . . . . . . .. . 2... ..~. | 15 |\n",
      "\n",
      "16 Advertising . . . . Ce 500\n",
      "17. Pension, profit-sharing, etc., plans Ce 17\n",
      "\n",
      "18 Employee benefit programs . . . Coe 18\n",
      "\n",
      "19 Energy efficient commercial buildings deduction (attach Form 7205) Soe 19\n",
      "\n",
      "20 Other deductions (attach statement) . . . . . 1... ee ee 20\n",
      "\n",
      "21 Total deductions. Add lines 7 through20.. . re ft 25,611\n",
      "22 Ordinary business income (loss). Subtract line 21 from line 6 Se | 22 | 54,389\n",
      "23a Excess net passive income or LIFO recapture tax (See instructions). . . 23a\n",
      "\n",
      "b Tax from Schedule D (Form 1120-S) . . . . . . ea 23b\n"
     ]
    }
   ],
   "source": [
    "import pytesseract\n",
    "import os\n",
    "from PIL import Image\n",
    "\n",
    "def ocr_with_pytesseract(image_path):\n",
    "    \"\"\"\n",
    "    Perform OCR using Tesseract.\n",
    "    \"\"\"\n",
    "    image = Image.open(image_path)\n",
    "    return pytesseract.image_to_string(image, config=\"--psm 4\").strip()\n",
    "\n",
    "def compare_ocr_engines(image_path, output_dir=\"ocr_results\"):\n",
    "    \"\"\"\n",
    "    Preprocess the image and compare OCR results from Tesseract and Keras-OCR.\n",
    "    \"\"\"\n",
    "    os.makedirs(output_dir, exist_ok=True)\n",
    "\n",
    "    # Perform OCR with Tesseract\n",
    "    tesseract_text = ocr_with_pytesseract(image_path)\n",
    "    with open(os.path.join(output_dir, \"tesseract_results.txt\"), \"w\") as f:\n",
    "        f.write(tesseract_text)\n",
    "\n",
    "    keras_text = \"\"\n",
    "\n",
    "    return {\n",
    "        \"Tesseract Results\": tesseract_text,\n",
    "        \"Keras-OCR Results\": keras_text,\n",
    "    }\n",
    "\n",
    "# Example usage\n",
    "image_path = r\"debug_images\\page_0\\cropped\\interest_value_cropped.png\"  # Replace with your image path\n",
    "ocr_results = compare_ocr_engines(image_path)\n",
    "\n",
    "# Print results to compare in console\n",
    "print(\"Tesseract Results:\")\n",
    "print(ocr_results[\"Tesseract Results\"])\n"
   ]
  },
  {
   "cell_type": "code",
   "execution_count": null,
   "metadata": {},
   "outputs": [],
   "source": [
    "import layoutparser as lp\n",
    "import cv2"
   ]
  },
  {
   "cell_type": "code",
   "execution_count": null,
   "metadata": {},
   "outputs": [],
   "source": [
    "image = cv2.imread(r\"debug_images\\page_0\\cropped\\depreciation_value_cropped.png\")\n",
    "image = image[..., ::-1]\n",
    "    # Convert the image from BGR (cv2 default loading style)\n",
    "    # to RGB"
   ]
  },
  {
   "cell_type": "code",
   "execution_count": null,
   "metadata": {},
   "outputs": [],
   "source": [
    "model = lp.Detectron2LayoutModel('lp://PubLayNet/faster_rcnn_R_50_FPN_3x/config',\n",
    "                                 extra_config=[\"MODEL.ROI_HEADS.SCORE_THRESH_TEST\", 0.8],\n",
    "                                 label_map={0: \"Text\", 1: \"Title\", 2: \"List\", 3:\"Table\", 4:\"Figure\"})\n",
    "    # Load the deep layout model from the layoutparser API\n",
    "    # For all the supported model, please check the Model\n",
    "    # Zoo Page: https://layout-parser.readthedocs.io/en/latest/notes/modelzoo.html"
   ]
  },
  {
   "cell_type": "code",
   "execution_count": null,
   "metadata": {},
   "outputs": [],
   "source": []
  }
 ],
 "metadata": {
  "kernelspec": {
   "display_name": ".venv",
   "language": "python",
   "name": "python3"
  },
  "language_info": {
   "codemirror_mode": {
    "name": "ipython",
    "version": 3
   },
   "file_extension": ".py",
   "mimetype": "text/x-python",
   "name": "python",
   "nbconvert_exporter": "python",
   "pygments_lexer": "ipython3",
   "version": "3.12.6"
  }
 },
 "nbformat": 4,
 "nbformat_minor": 2
}
